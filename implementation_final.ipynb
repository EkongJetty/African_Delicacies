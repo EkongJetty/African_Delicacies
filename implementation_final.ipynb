{
  "nbformat": 4,
  "nbformat_minor": 0,
  "metadata": {
    "colab": {
      "provenance": [],
      "authorship_tag": "ABX9TyNGcVr2l7UiiFufXFsqfpCj",
      "include_colab_link": true
    },
    "kernelspec": {
      "name": "python3",
      "display_name": "Python 3"
    },
    "language_info": {
      "name": "python"
    }
  },
  "cells": [
    {
      "cell_type": "markdown",
      "metadata": {
        "id": "view-in-github",
        "colab_type": "text"
      },
      "source": [
        "<a href=\"https://colab.research.google.com/github/EkongJetty/African_Delicacies/blob/master/implementation_final.ipynb\" target=\"_parent\"><img src=\"https://colab.research.google.com/assets/colab-badge.svg\" alt=\"Open In Colab\"/></a>"
      ]
    },
    {
      "cell_type": "code",
      "execution_count": 2,
      "metadata": {
        "id": "koGORcbH6xPY"
      },
      "outputs": [],
      "source": [
        "#importing the necessary libraries\n",
        "import pandas as pd\n",
        "import numpy as np"
      ]
    },
    {
      "cell_type": "code",
      "source": [
        "#calling KNN packages\n",
        "from sklearn.neighbors import KNeighborsClassifier\n",
        "from sklearn.datasets import load_iris\n",
        "from sklearn.model_selection import train_test_split"
      ],
      "metadata": {
        "id": "3hXvwEEW7EZB"
      },
      "execution_count": 3,
      "outputs": []
    },
    {
      "cell_type": "code",
      "source": [
        "#importing the dataset\n",
        "from google.colab import files\n",
        "uploaded = files.upload()\n"
      ],
      "metadata": {
        "colab": {
          "base_uri": "https://localhost:8080/",
          "height": 73
        },
        "id": "a_f0Y_hk7slM",
        "outputId": "a6420c64-dec1-45d1-e4e4-216b55e81584"
      },
      "execution_count": 4,
      "outputs": [
        {
          "output_type": "display_data",
          "data": {
            "text/plain": [
              "<IPython.core.display.HTML object>"
            ],
            "text/html": [
              "\n",
              "     <input type=\"file\" id=\"files-00107adf-2c59-49c5-bfb1-4cb5a2c10749\" name=\"files[]\" multiple disabled\n",
              "        style=\"border:none\" />\n",
              "     <output id=\"result-00107adf-2c59-49c5-bfb1-4cb5a2c10749\">\n",
              "      Upload widget is only available when the cell has been executed in the\n",
              "      current browser session. Please rerun this cell to enable.\n",
              "      </output>\n",
              "      <script>// Copyright 2017 Google LLC\n",
              "//\n",
              "// Licensed under the Apache License, Version 2.0 (the \"License\");\n",
              "// you may not use this file except in compliance with the License.\n",
              "// You may obtain a copy of the License at\n",
              "//\n",
              "//      http://www.apache.org/licenses/LICENSE-2.0\n",
              "//\n",
              "// Unless required by applicable law or agreed to in writing, software\n",
              "// distributed under the License is distributed on an \"AS IS\" BASIS,\n",
              "// WITHOUT WARRANTIES OR CONDITIONS OF ANY KIND, either express or implied.\n",
              "// See the License for the specific language governing permissions and\n",
              "// limitations under the License.\n",
              "\n",
              "/**\n",
              " * @fileoverview Helpers for google.colab Python module.\n",
              " */\n",
              "(function(scope) {\n",
              "function span(text, styleAttributes = {}) {\n",
              "  const element = document.createElement('span');\n",
              "  element.textContent = text;\n",
              "  for (const key of Object.keys(styleAttributes)) {\n",
              "    element.style[key] = styleAttributes[key];\n",
              "  }\n",
              "  return element;\n",
              "}\n",
              "\n",
              "// Max number of bytes which will be uploaded at a time.\n",
              "const MAX_PAYLOAD_SIZE = 100 * 1024;\n",
              "\n",
              "function _uploadFiles(inputId, outputId) {\n",
              "  const steps = uploadFilesStep(inputId, outputId);\n",
              "  const outputElement = document.getElementById(outputId);\n",
              "  // Cache steps on the outputElement to make it available for the next call\n",
              "  // to uploadFilesContinue from Python.\n",
              "  outputElement.steps = steps;\n",
              "\n",
              "  return _uploadFilesContinue(outputId);\n",
              "}\n",
              "\n",
              "// This is roughly an async generator (not supported in the browser yet),\n",
              "// where there are multiple asynchronous steps and the Python side is going\n",
              "// to poll for completion of each step.\n",
              "// This uses a Promise to block the python side on completion of each step,\n",
              "// then passes the result of the previous step as the input to the next step.\n",
              "function _uploadFilesContinue(outputId) {\n",
              "  const outputElement = document.getElementById(outputId);\n",
              "  const steps = outputElement.steps;\n",
              "\n",
              "  const next = steps.next(outputElement.lastPromiseValue);\n",
              "  return Promise.resolve(next.value.promise).then((value) => {\n",
              "    // Cache the last promise value to make it available to the next\n",
              "    // step of the generator.\n",
              "    outputElement.lastPromiseValue = value;\n",
              "    return next.value.response;\n",
              "  });\n",
              "}\n",
              "\n",
              "/**\n",
              " * Generator function which is called between each async step of the upload\n",
              " * process.\n",
              " * @param {string} inputId Element ID of the input file picker element.\n",
              " * @param {string} outputId Element ID of the output display.\n",
              " * @return {!Iterable<!Object>} Iterable of next steps.\n",
              " */\n",
              "function* uploadFilesStep(inputId, outputId) {\n",
              "  const inputElement = document.getElementById(inputId);\n",
              "  inputElement.disabled = false;\n",
              "\n",
              "  const outputElement = document.getElementById(outputId);\n",
              "  outputElement.innerHTML = '';\n",
              "\n",
              "  const pickedPromise = new Promise((resolve) => {\n",
              "    inputElement.addEventListener('change', (e) => {\n",
              "      resolve(e.target.files);\n",
              "    });\n",
              "  });\n",
              "\n",
              "  const cancel = document.createElement('button');\n",
              "  inputElement.parentElement.appendChild(cancel);\n",
              "  cancel.textContent = 'Cancel upload';\n",
              "  const cancelPromise = new Promise((resolve) => {\n",
              "    cancel.onclick = () => {\n",
              "      resolve(null);\n",
              "    };\n",
              "  });\n",
              "\n",
              "  // Wait for the user to pick the files.\n",
              "  const files = yield {\n",
              "    promise: Promise.race([pickedPromise, cancelPromise]),\n",
              "    response: {\n",
              "      action: 'starting',\n",
              "    }\n",
              "  };\n",
              "\n",
              "  cancel.remove();\n",
              "\n",
              "  // Disable the input element since further picks are not allowed.\n",
              "  inputElement.disabled = true;\n",
              "\n",
              "  if (!files) {\n",
              "    return {\n",
              "      response: {\n",
              "        action: 'complete',\n",
              "      }\n",
              "    };\n",
              "  }\n",
              "\n",
              "  for (const file of files) {\n",
              "    const li = document.createElement('li');\n",
              "    li.append(span(file.name, {fontWeight: 'bold'}));\n",
              "    li.append(span(\n",
              "        `(${file.type || 'n/a'}) - ${file.size} bytes, ` +\n",
              "        `last modified: ${\n",
              "            file.lastModifiedDate ? file.lastModifiedDate.toLocaleDateString() :\n",
              "                                    'n/a'} - `));\n",
              "    const percent = span('0% done');\n",
              "    li.appendChild(percent);\n",
              "\n",
              "    outputElement.appendChild(li);\n",
              "\n",
              "    const fileDataPromise = new Promise((resolve) => {\n",
              "      const reader = new FileReader();\n",
              "      reader.onload = (e) => {\n",
              "        resolve(e.target.result);\n",
              "      };\n",
              "      reader.readAsArrayBuffer(file);\n",
              "    });\n",
              "    // Wait for the data to be ready.\n",
              "    let fileData = yield {\n",
              "      promise: fileDataPromise,\n",
              "      response: {\n",
              "        action: 'continue',\n",
              "      }\n",
              "    };\n",
              "\n",
              "    // Use a chunked sending to avoid message size limits. See b/62115660.\n",
              "    let position = 0;\n",
              "    do {\n",
              "      const length = Math.min(fileData.byteLength - position, MAX_PAYLOAD_SIZE);\n",
              "      const chunk = new Uint8Array(fileData, position, length);\n",
              "      position += length;\n",
              "\n",
              "      const base64 = btoa(String.fromCharCode.apply(null, chunk));\n",
              "      yield {\n",
              "        response: {\n",
              "          action: 'append',\n",
              "          file: file.name,\n",
              "          data: base64,\n",
              "        },\n",
              "      };\n",
              "\n",
              "      let percentDone = fileData.byteLength === 0 ?\n",
              "          100 :\n",
              "          Math.round((position / fileData.byteLength) * 100);\n",
              "      percent.textContent = `${percentDone}% done`;\n",
              "\n",
              "    } while (position < fileData.byteLength);\n",
              "  }\n",
              "\n",
              "  // All done.\n",
              "  yield {\n",
              "    response: {\n",
              "      action: 'complete',\n",
              "    }\n",
              "  };\n",
              "}\n",
              "\n",
              "scope.google = scope.google || {};\n",
              "scope.google.colab = scope.google.colab || {};\n",
              "scope.google.colab._files = {\n",
              "  _uploadFiles,\n",
              "  _uploadFilesContinue,\n",
              "};\n",
              "})(self);\n",
              "</script> "
            ]
          },
          "metadata": {}
        },
        {
          "output_type": "stream",
          "name": "stdout",
          "text": [
            "Saving malaria_dataset - malaria_dataset.csv to malaria_dataset - malaria_dataset.csv\n"
          ]
        }
      ]
    },
    {
      "cell_type": "code",
      "source": [
        "malaria_data = pd.read_csv(\"malaria_dataset - malaria_dataset.csv\")"
      ],
      "metadata": {
        "id": "K6DVJ6NT95JQ"
      },
      "execution_count": 5,
      "outputs": []
    },
    {
      "cell_type": "code",
      "source": [
        "malaria_data.head(4)\n"
      ],
      "metadata": {
        "colab": {
          "base_uri": "https://localhost:8080/",
          "height": 395
        },
        "id": "qfe_5CGeBS6v",
        "outputId": "77044fad-43f6-43b2-d3dc-9594865af476"
      },
      "execution_count": 6,
      "outputs": [
        {
          "output_type": "execute_result",
          "data": {
            "text/plain": [
              "             Unnamed: 0                                Unnamed: 1  \\\n",
              "0  households/questions  Q1b: What is the size of your household?   \n",
              "1                     A                                         7   \n",
              "2                     B                                         6   \n",
              "3                     C                                        10   \n",
              "\n",
              "                                          Unnamed: 2  \\\n",
              "0  Q1c: What is the occupation of the household h...   \n",
              "1                                          Fisherman   \n",
              "2                                     Public servant   \n",
              "3                                             Tailor   \n",
              "\n",
              "                                          Unnamed: 3  \\\n",
              "0  Q1d:What is the nature of payment of household...   \n",
              "1                                         pensioneer   \n",
              "2                                        salary paid   \n",
              "3                                        salary paid   \n",
              "\n",
              "                                        Unnamed: 4  \\\n",
              "0  Q1e: How many days does he/she work in a month?   \n",
              "1                                                8   \n",
              "2                                                7   \n",
              "3                                                4   \n",
              "\n",
              "                                          Unnamed: 5  \\\n",
              "0  Q1f: What is the average monthly income of the...   \n",
              "1                                               1000   \n",
              "2                                               5000   \n",
              "3                                             300000   \n",
              "\n",
              "                                          Unnamed: 6  \\\n",
              "0  Q4a: What was the total cost of diagnosis incu...   \n",
              "1                                                NaN   \n",
              "2                                                NaN   \n",
              "3                                                NaN   \n",
              "\n",
              "                                          Unnamed: 7  \\\n",
              "0  Q4b: What was the total direct medical cost of...   \n",
              "1                                                NaN   \n",
              "2                                                NaN   \n",
              "3                                                NaN   \n",
              "\n",
              "                                          Unnamed: 8  \\\n",
              "0  Q5a: What is the total direct non-medical cost...   \n",
              "1                                                NaN   \n",
              "2                                                NaN   \n",
              "3                                                NaN   \n",
              "\n",
              "                                          Unnamed: 9  \\\n",
              "0  Q5a: How many production days did the head of ...   \n",
              "1                                                NaN   \n",
              "2                                                NaN   \n",
              "3                                                NaN   \n",
              "\n",
              "                                         Unnamed: 10  \\\n",
              "0  Q5b: How many production days did the head of ...   \n",
              "1                                                NaN   \n",
              "2                                                NaN   \n",
              "3                                                NaN   \n",
              "\n",
              "                                         Unnamed: 11  \\\n",
              "0  Q5c: How much was the average transportation c...   \n",
              "1                                              16000   \n",
              "2                                                400   \n",
              "3                                               1000   \n",
              "\n",
              "                                         Unnamed: 12  \\\n",
              "0  Q5d: What was the average food cost spent on t...   \n",
              "1                                               4000   \n",
              "2                                               2500   \n",
              "3                                              10000   \n",
              "\n",
              "                                         Unnamed: 13  \\\n",
              "0  Q5e: What was the total cost of treatment (inc...   \n",
              "1                                              20000   \n",
              "2                                               3300   \n",
              "3                                              12000   \n",
              "\n",
              "                                         Unnamed: 14  \\\n",
              "0  Q6a: How many productive days did the house he...   \n",
              "1                                                  5   \n",
              "2                                                  2   \n",
              "3                                                  1   \n",
              "\n",
              "                                         Unnamed: 15  \\\n",
              "0  Q6b: Apart from the head of household, how man...   \n",
              "1                                                  4   \n",
              "2                                                 10   \n",
              "3                                                  4   \n",
              "\n",
              "                                         Unnamed: 16  \\\n",
              "0  Q6c: Did the head of the household stay away f...   \n",
              "1                                                yes   \n",
              "2                                                yes   \n",
              "3                                                yes   \n",
              "\n",
              "                                    Unnamed: 17  \n",
              "0   Q6d: If yes to Q6e, specify how many days?   \n",
              "1                                            10  \n",
              "2                                            12  \n",
              "3                                             2  "
            ],
            "text/html": [
              "\n",
              "  <div id=\"df-ab3b22de-9646-451c-bf74-df668bf0b4b7\">\n",
              "    <div class=\"colab-df-container\">\n",
              "      <div>\n",
              "<style scoped>\n",
              "    .dataframe tbody tr th:only-of-type {\n",
              "        vertical-align: middle;\n",
              "    }\n",
              "\n",
              "    .dataframe tbody tr th {\n",
              "        vertical-align: top;\n",
              "    }\n",
              "\n",
              "    .dataframe thead th {\n",
              "        text-align: right;\n",
              "    }\n",
              "</style>\n",
              "<table border=\"1\" class=\"dataframe\">\n",
              "  <thead>\n",
              "    <tr style=\"text-align: right;\">\n",
              "      <th></th>\n",
              "      <th>Unnamed: 0</th>\n",
              "      <th>Unnamed: 1</th>\n",
              "      <th>Unnamed: 2</th>\n",
              "      <th>Unnamed: 3</th>\n",
              "      <th>Unnamed: 4</th>\n",
              "      <th>Unnamed: 5</th>\n",
              "      <th>Unnamed: 6</th>\n",
              "      <th>Unnamed: 7</th>\n",
              "      <th>Unnamed: 8</th>\n",
              "      <th>Unnamed: 9</th>\n",
              "      <th>Unnamed: 10</th>\n",
              "      <th>Unnamed: 11</th>\n",
              "      <th>Unnamed: 12</th>\n",
              "      <th>Unnamed: 13</th>\n",
              "      <th>Unnamed: 14</th>\n",
              "      <th>Unnamed: 15</th>\n",
              "      <th>Unnamed: 16</th>\n",
              "      <th>Unnamed: 17</th>\n",
              "    </tr>\n",
              "  </thead>\n",
              "  <tbody>\n",
              "    <tr>\n",
              "      <th>0</th>\n",
              "      <td>households/questions</td>\n",
              "      <td>Q1b: What is the size of your household?</td>\n",
              "      <td>Q1c: What is the occupation of the household h...</td>\n",
              "      <td>Q1d:What is the nature of payment of household...</td>\n",
              "      <td>Q1e: How many days does he/she work in a month?</td>\n",
              "      <td>Q1f: What is the average monthly income of the...</td>\n",
              "      <td>Q4a: What was the total cost of diagnosis incu...</td>\n",
              "      <td>Q4b: What was the total direct medical cost of...</td>\n",
              "      <td>Q5a: What is the total direct non-medical cost...</td>\n",
              "      <td>Q5a: How many production days did the head of ...</td>\n",
              "      <td>Q5b: How many production days did the head of ...</td>\n",
              "      <td>Q5c: How much was the average transportation c...</td>\n",
              "      <td>Q5d: What was the average food cost spent on t...</td>\n",
              "      <td>Q5e: What was the total cost of treatment (inc...</td>\n",
              "      <td>Q6a: How many productive days did the house he...</td>\n",
              "      <td>Q6b: Apart from the head of household, how man...</td>\n",
              "      <td>Q6c: Did the head of the household stay away f...</td>\n",
              "      <td>Q6d: If yes to Q6e, specify how many days?</td>\n",
              "    </tr>\n",
              "    <tr>\n",
              "      <th>1</th>\n",
              "      <td>A</td>\n",
              "      <td>7</td>\n",
              "      <td>Fisherman</td>\n",
              "      <td>pensioneer</td>\n",
              "      <td>8</td>\n",
              "      <td>1000</td>\n",
              "      <td>NaN</td>\n",
              "      <td>NaN</td>\n",
              "      <td>NaN</td>\n",
              "      <td>NaN</td>\n",
              "      <td>NaN</td>\n",
              "      <td>16000</td>\n",
              "      <td>4000</td>\n",
              "      <td>20000</td>\n",
              "      <td>5</td>\n",
              "      <td>4</td>\n",
              "      <td>yes</td>\n",
              "      <td>10</td>\n",
              "    </tr>\n",
              "    <tr>\n",
              "      <th>2</th>\n",
              "      <td>B</td>\n",
              "      <td>6</td>\n",
              "      <td>Public servant</td>\n",
              "      <td>salary paid</td>\n",
              "      <td>7</td>\n",
              "      <td>5000</td>\n",
              "      <td>NaN</td>\n",
              "      <td>NaN</td>\n",
              "      <td>NaN</td>\n",
              "      <td>NaN</td>\n",
              "      <td>NaN</td>\n",
              "      <td>400</td>\n",
              "      <td>2500</td>\n",
              "      <td>3300</td>\n",
              "      <td>2</td>\n",
              "      <td>10</td>\n",
              "      <td>yes</td>\n",
              "      <td>12</td>\n",
              "    </tr>\n",
              "    <tr>\n",
              "      <th>3</th>\n",
              "      <td>C</td>\n",
              "      <td>10</td>\n",
              "      <td>Tailor</td>\n",
              "      <td>salary paid</td>\n",
              "      <td>4</td>\n",
              "      <td>300000</td>\n",
              "      <td>NaN</td>\n",
              "      <td>NaN</td>\n",
              "      <td>NaN</td>\n",
              "      <td>NaN</td>\n",
              "      <td>NaN</td>\n",
              "      <td>1000</td>\n",
              "      <td>10000</td>\n",
              "      <td>12000</td>\n",
              "      <td>1</td>\n",
              "      <td>4</td>\n",
              "      <td>yes</td>\n",
              "      <td>2</td>\n",
              "    </tr>\n",
              "  </tbody>\n",
              "</table>\n",
              "</div>\n",
              "      <button class=\"colab-df-convert\" onclick=\"convertToInteractive('df-ab3b22de-9646-451c-bf74-df668bf0b4b7')\"\n",
              "              title=\"Convert this dataframe to an interactive table.\"\n",
              "              style=\"display:none;\">\n",
              "        \n",
              "  <svg xmlns=\"http://www.w3.org/2000/svg\" height=\"24px\"viewBox=\"0 0 24 24\"\n",
              "       width=\"24px\">\n",
              "    <path d=\"M0 0h24v24H0V0z\" fill=\"none\"/>\n",
              "    <path d=\"M18.56 5.44l.94 2.06.94-2.06 2.06-.94-2.06-.94-.94-2.06-.94 2.06-2.06.94zm-11 1L8.5 8.5l.94-2.06 2.06-.94-2.06-.94L8.5 2.5l-.94 2.06-2.06.94zm10 10l.94 2.06.94-2.06 2.06-.94-2.06-.94-.94-2.06-.94 2.06-2.06.94z\"/><path d=\"M17.41 7.96l-1.37-1.37c-.4-.4-.92-.59-1.43-.59-.52 0-1.04.2-1.43.59L10.3 9.45l-7.72 7.72c-.78.78-.78 2.05 0 2.83L4 21.41c.39.39.9.59 1.41.59.51 0 1.02-.2 1.41-.59l7.78-7.78 2.81-2.81c.8-.78.8-2.07 0-2.86zM5.41 20L4 18.59l7.72-7.72 1.47 1.35L5.41 20z\"/>\n",
              "  </svg>\n",
              "      </button>\n",
              "      \n",
              "  <style>\n",
              "    .colab-df-container {\n",
              "      display:flex;\n",
              "      flex-wrap:wrap;\n",
              "      gap: 12px;\n",
              "    }\n",
              "\n",
              "    .colab-df-convert {\n",
              "      background-color: #E8F0FE;\n",
              "      border: none;\n",
              "      border-radius: 50%;\n",
              "      cursor: pointer;\n",
              "      display: none;\n",
              "      fill: #1967D2;\n",
              "      height: 32px;\n",
              "      padding: 0 0 0 0;\n",
              "      width: 32px;\n",
              "    }\n",
              "\n",
              "    .colab-df-convert:hover {\n",
              "      background-color: #E2EBFA;\n",
              "      box-shadow: 0px 1px 2px rgba(60, 64, 67, 0.3), 0px 1px 3px 1px rgba(60, 64, 67, 0.15);\n",
              "      fill: #174EA6;\n",
              "    }\n",
              "\n",
              "    [theme=dark] .colab-df-convert {\n",
              "      background-color: #3B4455;\n",
              "      fill: #D2E3FC;\n",
              "    }\n",
              "\n",
              "    [theme=dark] .colab-df-convert:hover {\n",
              "      background-color: #434B5C;\n",
              "      box-shadow: 0px 1px 3px 1px rgba(0, 0, 0, 0.15);\n",
              "      filter: drop-shadow(0px 1px 2px rgba(0, 0, 0, 0.3));\n",
              "      fill: #FFFFFF;\n",
              "    }\n",
              "  </style>\n",
              "\n",
              "      <script>\n",
              "        const buttonEl =\n",
              "          document.querySelector('#df-ab3b22de-9646-451c-bf74-df668bf0b4b7 button.colab-df-convert');\n",
              "        buttonEl.style.display =\n",
              "          google.colab.kernel.accessAllowed ? 'block' : 'none';\n",
              "\n",
              "        async function convertToInteractive(key) {\n",
              "          const element = document.querySelector('#df-ab3b22de-9646-451c-bf74-df668bf0b4b7');\n",
              "          const dataTable =\n",
              "            await google.colab.kernel.invokeFunction('convertToInteractive',\n",
              "                                                     [key], {});\n",
              "          if (!dataTable) return;\n",
              "\n",
              "          const docLinkHtml = 'Like what you see? Visit the ' +\n",
              "            '<a target=\"_blank\" href=https://colab.research.google.com/notebooks/data_table.ipynb>data table notebook</a>'\n",
              "            + ' to learn more about interactive tables.';\n",
              "          element.innerHTML = '';\n",
              "          dataTable['output_type'] = 'display_data';\n",
              "          await google.colab.output.renderOutput(dataTable, element);\n",
              "          const docLink = document.createElement('div');\n",
              "          docLink.innerHTML = docLinkHtml;\n",
              "          element.appendChild(docLink);\n",
              "        }\n",
              "      </script>\n",
              "    </div>\n",
              "  </div>\n",
              "  "
            ]
          },
          "metadata": {},
          "execution_count": 6
        }
      ]
    },
    {
      "cell_type": "code",
      "source": [
        "'''Column defintions\n",
        "hh : households \n",
        "Q1b : Household size\n",
        "Q1c : Occupation of the household\n",
        "Q1d : Nature of payment\n",
        "Q1e: How many days does he/she work in a month?\n",
        "Q1f: What is the average monthly income of the household\n",
        "Q4a: What was the total cost of diagnosis incu\n",
        "Q4b: What was the total direct medical cost of household\n",
        "Q50: What is the total direct non-medical cost..\n",
        "Q5a: How many production days did the head of\n",
        "Q5b: How many production days did the head of ...\n",
        "Q5c: How much was the average transportation \n",
        "Q5d: What was the average food cost spent on t...\t\n",
        "Q5e: What was the total cost of treatment (inc.\n",
        "Q6a: How many productive days did the house he.\n",
        "Q6b: Apart from the head of household, how man\n",
        "Q6c: Did the head of the household stay away f...\n",
        "Q6d: If yes to Q6e, specify how many days?\n",
        "\n",
        "'''"
      ],
      "metadata": {
        "colab": {
          "base_uri": "https://localhost:8080/",
          "height": 122
        },
        "id": "O6kWGtcgEr2X",
        "outputId": "9ed16695-6e9c-447a-8962-28e06bad6eb4"
      },
      "execution_count": 10,
      "outputs": [
        {
          "output_type": "execute_result",
          "data": {
            "text/plain": [
              "'Column defintions\\nhh : households \\nQ1b : Household size\\nQ1c : Occupation of the household\\nQ1d : Nature of payment\\nQ1e: How many days does he/she work in a month?\\nQ1f: What is the average monthly income of the household\\nQ4a: What was the total cost of diagnosis incu\\nQ4b: What was the total direct medical cost of household\\nQ5a: What is the total direct non-medical cost..\\nQ5a: How many production days did the head of\\nQ5b: How many production days did the head of ...\\nQ5c: How much was the average transportation \\nQ5d: What was the average food cost spent on t...\\t\\nQ5e: What was the total cost of treatment (inc.\\nQ6a: How many productive days did the house he.\\nQ6b: Apart from the head of household, how man\\nQ6c: Did the head of the household stay away f...\\nQ6d: If yes to Q6e, specify how many days?\\n\\n'"
            ],
            "application/vnd.google.colaboratory.intrinsic+json": {
              "type": "string"
            }
          },
          "metadata": {},
          "execution_count": 10
        }
      ]
    },
    {
      "cell_type": "code",
      "source": [
        "columns = [\"hh\", \"Q1b\", \"Q1c\", \"Q1d\", \"Q1e\", \"Q1f\", \"Q4a\", \"Q4b\", \"Q50\" , \"Q5a\", \"Q5b\", \"Q5c\", \"Q5d\", \"Q5e\", \"Q6a\", \"Q6b\", \"Q6c\", \"Q6d\"]"
      ],
      "metadata": {
        "id": "G5lWMV9r-Ev7"
      },
      "execution_count": 7,
      "outputs": []
    },
    {
      "cell_type": "code",
      "source": [
        "malaria_data.columns  = columns"
      ],
      "metadata": {
        "id": "7jKk_X7TG-pX"
      },
      "execution_count": 8,
      "outputs": []
    },
    {
      "cell_type": "code",
      "source": [
        "malaria_data = malaria_data.drop(index = 0)"
      ],
      "metadata": {
        "id": "txAfXzZsdG8i"
      },
      "execution_count": 13,
      "outputs": []
    },
    {
      "cell_type": "code",
      "source": [
        "#malaria_data = malaria_data.drop(index = 0)"
      ],
      "metadata": {
        "id": "__2KjsQ7HBc9"
      },
      "execution_count": 77,
      "outputs": []
    },
    {
      "cell_type": "code",
      "source": [
        "malaria_data = malaria_data.fillna(malaria_data.mean())"
      ],
      "metadata": {
        "colab": {
          "base_uri": "https://localhost:8080/"
        },
        "id": "SWOMVyKeLqsn",
        "outputId": "f1e10029-0ddc-41bf-b37f-7e30576d29e8"
      },
      "execution_count": 32,
      "outputs": [
        {
          "output_type": "stream",
          "name": "stderr",
          "text": [
            "<ipython-input-32-07c9475f6c39>:1: FutureWarning: The default value of numeric_only in DataFrame.mean is deprecated. In a future version, it will default to False. In addition, specifying 'numeric_only=None' is deprecated. Select only valid columns or specify the value of numeric_only to silence this warning.\n",
            "  malaria_data = malaria_data.fillna(malaria_data.mean())\n"
          ]
        }
      ]
    },
    {
      "cell_type": "code",
      "source": [
        "malaria_data[malaria_data.select_dtypes(include=['number']).columns] = malaria_data.select_dtypes(include=['number']).apply(pd.to_numeric)"
      ],
      "metadata": {
        "id": "I01o4gHmLqwc"
      },
      "execution_count": 34,
      "outputs": []
    },
    {
      "cell_type": "code",
      "source": [
        "# replace NaN values with the column mean\n",
        "malaria_data[malaria_data.select_dtypes(include=['number']).columns] = malaria_data.select_dtypes(include=['number']).fillna(malaria_data.select_dtypes(include=['number']).mean())\n"
      ],
      "metadata": {
        "id": "9t59njOXG-tB"
      },
      "execution_count": 67,
      "outputs": []
    },
    {
      "cell_type": "code",
      "source": [
        "string_column = malaria_data[['hh', 'Q1c', 'Q1d', 'Q6c']]"
      ],
      "metadata": {
        "id": "Cg2jH7_NG-xk"
      },
      "execution_count": 14,
      "outputs": []
    },
    {
      "cell_type": "code",
      "source": [
        "numeric_columns = malaria_data.drop(string_column, axis = 1)"
      ],
      "metadata": {
        "id": "uUZm-0htG-2L"
      },
      "execution_count": 15,
      "outputs": []
    },
    {
      "cell_type": "code",
      "source": [
        "numeric_columns = numeric_columns.fillna(numeric_columns.mean())"
      ],
      "metadata": {
        "colab": {
          "base_uri": "https://localhost:8080/"
        },
        "id": "H_fD6E8BVucU",
        "outputId": "6d03ad51-5b20-43de-ec38-6ccb98d0b3f1"
      },
      "execution_count": 80,
      "outputs": [
        {
          "output_type": "stream",
          "name": "stderr",
          "text": [
            "<ipython-input-80-a10b788778af>:1: FutureWarning: The default value of numeric_only in DataFrame.mean is deprecated. In a future version, it will default to False. In addition, specifying 'numeric_only=None' is deprecated. Select only valid columns or specify the value of numeric_only to silence this warning.\n",
            "  numeric_columns = numeric_columns.fillna(numeric_columns.mean())\n"
          ]
        }
      ]
    },
    {
      "cell_type": "code",
      "source": [
        "numeric_columns = pd.to_numeric(numeric_columns.columns, errors = \"coerce\")"
      ],
      "metadata": {
        "id": "hRlbbedrXOve"
      },
      "execution_count": 81,
      "outputs": []
    },
    {
      "cell_type": "code",
      "source": [
        "numeric_columns = numeric_columns.fillna(numeric_columns.mean())"
      ],
      "metadata": {
        "colab": {
          "base_uri": "https://localhost:8080/"
        },
        "id": "LJqXdKw8a7xB",
        "outputId": "1fc19576-4a68-43b4-b5fb-9ef0d12198c0"
      },
      "execution_count": 57,
      "outputs": [
        {
          "output_type": "stream",
          "name": "stderr",
          "text": [
            "<ipython-input-57-a10b788778af>:1: FutureWarning: The default value of numeric_only in DataFrame.mean is deprecated. In a future version, it will default to False. In addition, specifying 'numeric_only=None' is deprecated. Select only valid columns or specify the value of numeric_only to silence this warning.\n",
            "  numeric_columns = numeric_columns.fillna(numeric_columns.mean())\n"
          ]
        }
      ]
    },
    {
      "cell_type": "code",
      "source": [
        "#numeric_columns[[numeric_columns.columns]] = numeric_columns[[numeric_columns.columns]].astype('float')"
      ],
      "metadata": {
        "id": "Qjp1Bu-zbM4M"
      },
      "execution_count": 90,
      "outputs": []
    },
    {
      "cell_type": "code",
      "source": [
        "numeric_columns[['Q4b']] = numeric_columns[['Q4b']].replace(\"Please specify\", np.nan)"
      ],
      "metadata": {
        "id": "K7bFxuGnqQB4"
      },
      "execution_count": 46,
      "outputs": []
    },
    {
      "cell_type": "code",
      "source": [
        "numeric_columns[\"Q1b\"] = numeric_columns[\"Q1b\"].astype('float')\n",
        "numeric_columns['Q1e'] = numeric_columns['Q1e'].astype('float')\n",
        "numeric_columns['Q1f'] = numeric_columns['Q1f'].astype('float')\n",
        "numeric_columns['Q4a'] = numeric_columns['Q4a'].astype('float')\n",
        "numeric_columns['Q4b'] = numeric_columns['Q4b'].astype('float')\n",
        "numeric_columns['Q50'] = numeric_columns['Q50'].astype('float')\n",
        "numeric_columns['Q5a'] = numeric_columns['Q5a'].astype('float')\n",
        "numeric_columns['Q5b'] = numeric_columns['Q5b'].astype('float')\n",
        "numeric_columns['Q5c'] = numeric_columns['Q5c'].astype('float')\n",
        "numeric_columns['Q5d'] = numeric_columns['Q5d'].astype('float')\n",
        "numeric_columns['Q5e'] = numeric_columns['Q5e'].astype('float')\n",
        "numeric_columns['Q6a'] = numeric_columns['Q6a'].astype('float')\n",
        "numeric_columns['Q6b'] = numeric_columns['Q6b'].astype('float')\n",
        "numeric_columns['Q6d'] = numeric_columns['Q6d'].astype('float')"
      ],
      "metadata": {
        "id": "VKEzHTojjGcc"
      },
      "execution_count": 19,
      "outputs": []
    },
    {
      "cell_type": "code",
      "source": [
        "cleaned_df = pd.concat([string_column, numeric_columns], axis = 1)"
      ],
      "metadata": {
        "id": "n7TPNYZVkh17"
      },
      "execution_count": 20,
      "outputs": []
    },
    {
      "cell_type": "code",
      "source": [
        "cleaned_df = cleaned_df.fillna(cleaned_df.mean())"
      ],
      "metadata": {
        "colab": {
          "base_uri": "https://localhost:8080/"
        },
        "id": "QErLae2uvkx5",
        "outputId": "6fbe7ae5-d279-4843-fc85-6d869a84ce41"
      },
      "execution_count": 21,
      "outputs": [
        {
          "output_type": "stream",
          "name": "stderr",
          "text": [
            "<ipython-input-21-8dccb1b1db66>:1: FutureWarning: The default value of numeric_only in DataFrame.mean is deprecated. In a future version, it will default to False. In addition, specifying 'numeric_only=None' is deprecated. Select only valid columns or specify the value of numeric_only to silence this warning.\n",
            "  cleaned_df = cleaned_df.fillna(cleaned_df.mean())\n"
          ]
        }
      ]
    },
    {
      "cell_type": "code",
      "source": [
        "cleaned_df"
      ],
      "metadata": {
        "colab": {
          "base_uri": "https://localhost:8080/",
          "height": 537
        },
        "id": "HNV0tQgKk0Oa",
        "outputId": "83501f8d-7109-4e34-a90e-9021c374f3cc"
      },
      "execution_count": 23,
      "outputs": [
        {
          "output_type": "execute_result",
          "data": {
            "text/plain": [
              "      hh             Q1c          Q1d  Q6c   Q1b   Q1e       Q1f          Q4a  \\\n",
              "1      A       Fisherman   pensioneer  yes   7.0   8.0    1000.0  4045.679012   \n",
              "2      B  Public servant  salary paid  yes   6.0   7.0    5000.0  4045.679012   \n",
              "3      C          Tailor  salary paid  yes  10.0   4.0  300000.0  4045.679012   \n",
              "4      D  Company worker   Daily paid  yes   4.0   6.0   50000.0  4045.679012   \n",
              "5      E    Business man     Contract  yes   4.0  22.0  200000.0  5000.000000   \n",
              "..   ...             ...          ...  ...   ...   ...       ...          ...   \n",
              "152  FAN    Business man   Daily paid   no   5.0  25.0   60000.0  3000.000000   \n",
              "153  FAO  Company worker     Contract   no   3.0  20.0   80000.0  6000.000000   \n",
              "154  FAQ  Company worker   Daily paid   no   3.0  20.0    8500.0  9000.000000   \n",
              "155  FAR  Company worker  Salary paid  yes   2.0  20.0   95000.0  2500.000000   \n",
              "156  FAS    Business man     Contract   no   1.0  20.0   55000.0  5000.000000   \n",
              "\n",
              "              Q4b          Q50        Q5a        Q5b      Q5c      Q5d  \\\n",
              "1     4439.545455   2561.69697   5.163265  72.218045  16000.0   4000.0   \n",
              "2     4439.545455   2561.69697   5.163265  72.218045    400.0   2500.0   \n",
              "3     4439.545455   2561.69697   5.163265  72.218045   1000.0  10000.0   \n",
              "4    20000.000000  10008.00000  15.000000   9.000000    500.0   6000.0   \n",
              "5     5000.000000   2561.69697   7.000000  72.218045   1500.0   3000.0   \n",
              "..            ...          ...        ...        ...      ...      ...   \n",
              "152   2000.000000   2000.00000   6.000000   5.000000   5500.0   6000.0   \n",
              "153   4439.545455   3000.00000   4.000000   4.000000   2500.0   2000.0   \n",
              "154   5000.000000   2000.00000   8.000000   4.000000   1500.0  12000.0   \n",
              "155   5000.000000   2500.00000   3.000000   2.000000    500.0   3000.0   \n",
              "156   3000.000000   1000.00000   4.000000   2.000000      0.0   4000.0   \n",
              "\n",
              "         Q5e  Q6a   Q6b   Q6d  \n",
              "1    20000.0  5.0   4.0  10.0  \n",
              "2     3300.0  2.0  10.0  12.0  \n",
              "3    12000.0  1.0   4.0   2.0  \n",
              "4     7000.0  1.0  10.0   4.0  \n",
              "5     6000.0  2.0  15.0   5.0  \n",
              "..       ...  ...   ...   ...  \n",
              "152  17000.0  0.0   1.0   0.0  \n",
              "153   7000.0  0.0   1.0   0.0  \n",
              "154  15000.0  0.0   2.0   0.0  \n",
              "155   4000.0  0.0   2.0   0.0  \n",
              "156   4000.0  0.0   0.0   0.0  \n",
              "\n",
              "[156 rows x 18 columns]"
            ],
            "text/html": [
              "\n",
              "  <div id=\"df-a22a21a1-8cc3-4625-92f5-ee718948ba36\">\n",
              "    <div class=\"colab-df-container\">\n",
              "      <div>\n",
              "<style scoped>\n",
              "    .dataframe tbody tr th:only-of-type {\n",
              "        vertical-align: middle;\n",
              "    }\n",
              "\n",
              "    .dataframe tbody tr th {\n",
              "        vertical-align: top;\n",
              "    }\n",
              "\n",
              "    .dataframe thead th {\n",
              "        text-align: right;\n",
              "    }\n",
              "</style>\n",
              "<table border=\"1\" class=\"dataframe\">\n",
              "  <thead>\n",
              "    <tr style=\"text-align: right;\">\n",
              "      <th></th>\n",
              "      <th>hh</th>\n",
              "      <th>Q1c</th>\n",
              "      <th>Q1d</th>\n",
              "      <th>Q6c</th>\n",
              "      <th>Q1b</th>\n",
              "      <th>Q1e</th>\n",
              "      <th>Q1f</th>\n",
              "      <th>Q4a</th>\n",
              "      <th>Q4b</th>\n",
              "      <th>Q50</th>\n",
              "      <th>Q5a</th>\n",
              "      <th>Q5b</th>\n",
              "      <th>Q5c</th>\n",
              "      <th>Q5d</th>\n",
              "      <th>Q5e</th>\n",
              "      <th>Q6a</th>\n",
              "      <th>Q6b</th>\n",
              "      <th>Q6d</th>\n",
              "    </tr>\n",
              "  </thead>\n",
              "  <tbody>\n",
              "    <tr>\n",
              "      <th>1</th>\n",
              "      <td>A</td>\n",
              "      <td>Fisherman</td>\n",
              "      <td>pensioneer</td>\n",
              "      <td>yes</td>\n",
              "      <td>7.0</td>\n",
              "      <td>8.0</td>\n",
              "      <td>1000.0</td>\n",
              "      <td>4045.679012</td>\n",
              "      <td>4439.545455</td>\n",
              "      <td>2561.69697</td>\n",
              "      <td>5.163265</td>\n",
              "      <td>72.218045</td>\n",
              "      <td>16000.0</td>\n",
              "      <td>4000.0</td>\n",
              "      <td>20000.0</td>\n",
              "      <td>5.0</td>\n",
              "      <td>4.0</td>\n",
              "      <td>10.0</td>\n",
              "    </tr>\n",
              "    <tr>\n",
              "      <th>2</th>\n",
              "      <td>B</td>\n",
              "      <td>Public servant</td>\n",
              "      <td>salary paid</td>\n",
              "      <td>yes</td>\n",
              "      <td>6.0</td>\n",
              "      <td>7.0</td>\n",
              "      <td>5000.0</td>\n",
              "      <td>4045.679012</td>\n",
              "      <td>4439.545455</td>\n",
              "      <td>2561.69697</td>\n",
              "      <td>5.163265</td>\n",
              "      <td>72.218045</td>\n",
              "      <td>400.0</td>\n",
              "      <td>2500.0</td>\n",
              "      <td>3300.0</td>\n",
              "      <td>2.0</td>\n",
              "      <td>10.0</td>\n",
              "      <td>12.0</td>\n",
              "    </tr>\n",
              "    <tr>\n",
              "      <th>3</th>\n",
              "      <td>C</td>\n",
              "      <td>Tailor</td>\n",
              "      <td>salary paid</td>\n",
              "      <td>yes</td>\n",
              "      <td>10.0</td>\n",
              "      <td>4.0</td>\n",
              "      <td>300000.0</td>\n",
              "      <td>4045.679012</td>\n",
              "      <td>4439.545455</td>\n",
              "      <td>2561.69697</td>\n",
              "      <td>5.163265</td>\n",
              "      <td>72.218045</td>\n",
              "      <td>1000.0</td>\n",
              "      <td>10000.0</td>\n",
              "      <td>12000.0</td>\n",
              "      <td>1.0</td>\n",
              "      <td>4.0</td>\n",
              "      <td>2.0</td>\n",
              "    </tr>\n",
              "    <tr>\n",
              "      <th>4</th>\n",
              "      <td>D</td>\n",
              "      <td>Company worker</td>\n",
              "      <td>Daily paid</td>\n",
              "      <td>yes</td>\n",
              "      <td>4.0</td>\n",
              "      <td>6.0</td>\n",
              "      <td>50000.0</td>\n",
              "      <td>4045.679012</td>\n",
              "      <td>20000.000000</td>\n",
              "      <td>10008.00000</td>\n",
              "      <td>15.000000</td>\n",
              "      <td>9.000000</td>\n",
              "      <td>500.0</td>\n",
              "      <td>6000.0</td>\n",
              "      <td>7000.0</td>\n",
              "      <td>1.0</td>\n",
              "      <td>10.0</td>\n",
              "      <td>4.0</td>\n",
              "    </tr>\n",
              "    <tr>\n",
              "      <th>5</th>\n",
              "      <td>E</td>\n",
              "      <td>Business man</td>\n",
              "      <td>Contract</td>\n",
              "      <td>yes</td>\n",
              "      <td>4.0</td>\n",
              "      <td>22.0</td>\n",
              "      <td>200000.0</td>\n",
              "      <td>5000.000000</td>\n",
              "      <td>5000.000000</td>\n",
              "      <td>2561.69697</td>\n",
              "      <td>7.000000</td>\n",
              "      <td>72.218045</td>\n",
              "      <td>1500.0</td>\n",
              "      <td>3000.0</td>\n",
              "      <td>6000.0</td>\n",
              "      <td>2.0</td>\n",
              "      <td>15.0</td>\n",
              "      <td>5.0</td>\n",
              "    </tr>\n",
              "    <tr>\n",
              "      <th>...</th>\n",
              "      <td>...</td>\n",
              "      <td>...</td>\n",
              "      <td>...</td>\n",
              "      <td>...</td>\n",
              "      <td>...</td>\n",
              "      <td>...</td>\n",
              "      <td>...</td>\n",
              "      <td>...</td>\n",
              "      <td>...</td>\n",
              "      <td>...</td>\n",
              "      <td>...</td>\n",
              "      <td>...</td>\n",
              "      <td>...</td>\n",
              "      <td>...</td>\n",
              "      <td>...</td>\n",
              "      <td>...</td>\n",
              "      <td>...</td>\n",
              "      <td>...</td>\n",
              "    </tr>\n",
              "    <tr>\n",
              "      <th>152</th>\n",
              "      <td>FAN</td>\n",
              "      <td>Business man</td>\n",
              "      <td>Daily paid</td>\n",
              "      <td>no</td>\n",
              "      <td>5.0</td>\n",
              "      <td>25.0</td>\n",
              "      <td>60000.0</td>\n",
              "      <td>3000.000000</td>\n",
              "      <td>2000.000000</td>\n",
              "      <td>2000.00000</td>\n",
              "      <td>6.000000</td>\n",
              "      <td>5.000000</td>\n",
              "      <td>5500.0</td>\n",
              "      <td>6000.0</td>\n",
              "      <td>17000.0</td>\n",
              "      <td>0.0</td>\n",
              "      <td>1.0</td>\n",
              "      <td>0.0</td>\n",
              "    </tr>\n",
              "    <tr>\n",
              "      <th>153</th>\n",
              "      <td>FAO</td>\n",
              "      <td>Company worker</td>\n",
              "      <td>Contract</td>\n",
              "      <td>no</td>\n",
              "      <td>3.0</td>\n",
              "      <td>20.0</td>\n",
              "      <td>80000.0</td>\n",
              "      <td>6000.000000</td>\n",
              "      <td>4439.545455</td>\n",
              "      <td>3000.00000</td>\n",
              "      <td>4.000000</td>\n",
              "      <td>4.000000</td>\n",
              "      <td>2500.0</td>\n",
              "      <td>2000.0</td>\n",
              "      <td>7000.0</td>\n",
              "      <td>0.0</td>\n",
              "      <td>1.0</td>\n",
              "      <td>0.0</td>\n",
              "    </tr>\n",
              "    <tr>\n",
              "      <th>154</th>\n",
              "      <td>FAQ</td>\n",
              "      <td>Company worker</td>\n",
              "      <td>Daily paid</td>\n",
              "      <td>no</td>\n",
              "      <td>3.0</td>\n",
              "      <td>20.0</td>\n",
              "      <td>8500.0</td>\n",
              "      <td>9000.000000</td>\n",
              "      <td>5000.000000</td>\n",
              "      <td>2000.00000</td>\n",
              "      <td>8.000000</td>\n",
              "      <td>4.000000</td>\n",
              "      <td>1500.0</td>\n",
              "      <td>12000.0</td>\n",
              "      <td>15000.0</td>\n",
              "      <td>0.0</td>\n",
              "      <td>2.0</td>\n",
              "      <td>0.0</td>\n",
              "    </tr>\n",
              "    <tr>\n",
              "      <th>155</th>\n",
              "      <td>FAR</td>\n",
              "      <td>Company worker</td>\n",
              "      <td>Salary paid</td>\n",
              "      <td>yes</td>\n",
              "      <td>2.0</td>\n",
              "      <td>20.0</td>\n",
              "      <td>95000.0</td>\n",
              "      <td>2500.000000</td>\n",
              "      <td>5000.000000</td>\n",
              "      <td>2500.00000</td>\n",
              "      <td>3.000000</td>\n",
              "      <td>2.000000</td>\n",
              "      <td>500.0</td>\n",
              "      <td>3000.0</td>\n",
              "      <td>4000.0</td>\n",
              "      <td>0.0</td>\n",
              "      <td>2.0</td>\n",
              "      <td>0.0</td>\n",
              "    </tr>\n",
              "    <tr>\n",
              "      <th>156</th>\n",
              "      <td>FAS</td>\n",
              "      <td>Business man</td>\n",
              "      <td>Contract</td>\n",
              "      <td>no</td>\n",
              "      <td>1.0</td>\n",
              "      <td>20.0</td>\n",
              "      <td>55000.0</td>\n",
              "      <td>5000.000000</td>\n",
              "      <td>3000.000000</td>\n",
              "      <td>1000.00000</td>\n",
              "      <td>4.000000</td>\n",
              "      <td>2.000000</td>\n",
              "      <td>0.0</td>\n",
              "      <td>4000.0</td>\n",
              "      <td>4000.0</td>\n",
              "      <td>0.0</td>\n",
              "      <td>0.0</td>\n",
              "      <td>0.0</td>\n",
              "    </tr>\n",
              "  </tbody>\n",
              "</table>\n",
              "<p>156 rows × 18 columns</p>\n",
              "</div>\n",
              "      <button class=\"colab-df-convert\" onclick=\"convertToInteractive('df-a22a21a1-8cc3-4625-92f5-ee718948ba36')\"\n",
              "              title=\"Convert this dataframe to an interactive table.\"\n",
              "              style=\"display:none;\">\n",
              "        \n",
              "  <svg xmlns=\"http://www.w3.org/2000/svg\" height=\"24px\"viewBox=\"0 0 24 24\"\n",
              "       width=\"24px\">\n",
              "    <path d=\"M0 0h24v24H0V0z\" fill=\"none\"/>\n",
              "    <path d=\"M18.56 5.44l.94 2.06.94-2.06 2.06-.94-2.06-.94-.94-2.06-.94 2.06-2.06.94zm-11 1L8.5 8.5l.94-2.06 2.06-.94-2.06-.94L8.5 2.5l-.94 2.06-2.06.94zm10 10l.94 2.06.94-2.06 2.06-.94-2.06-.94-.94-2.06-.94 2.06-2.06.94z\"/><path d=\"M17.41 7.96l-1.37-1.37c-.4-.4-.92-.59-1.43-.59-.52 0-1.04.2-1.43.59L10.3 9.45l-7.72 7.72c-.78.78-.78 2.05 0 2.83L4 21.41c.39.39.9.59 1.41.59.51 0 1.02-.2 1.41-.59l7.78-7.78 2.81-2.81c.8-.78.8-2.07 0-2.86zM5.41 20L4 18.59l7.72-7.72 1.47 1.35L5.41 20z\"/>\n",
              "  </svg>\n",
              "      </button>\n",
              "      \n",
              "  <style>\n",
              "    .colab-df-container {\n",
              "      display:flex;\n",
              "      flex-wrap:wrap;\n",
              "      gap: 12px;\n",
              "    }\n",
              "\n",
              "    .colab-df-convert {\n",
              "      background-color: #E8F0FE;\n",
              "      border: none;\n",
              "      border-radius: 50%;\n",
              "      cursor: pointer;\n",
              "      display: none;\n",
              "      fill: #1967D2;\n",
              "      height: 32px;\n",
              "      padding: 0 0 0 0;\n",
              "      width: 32px;\n",
              "    }\n",
              "\n",
              "    .colab-df-convert:hover {\n",
              "      background-color: #E2EBFA;\n",
              "      box-shadow: 0px 1px 2px rgba(60, 64, 67, 0.3), 0px 1px 3px 1px rgba(60, 64, 67, 0.15);\n",
              "      fill: #174EA6;\n",
              "    }\n",
              "\n",
              "    [theme=dark] .colab-df-convert {\n",
              "      background-color: #3B4455;\n",
              "      fill: #D2E3FC;\n",
              "    }\n",
              "\n",
              "    [theme=dark] .colab-df-convert:hover {\n",
              "      background-color: #434B5C;\n",
              "      box-shadow: 0px 1px 3px 1px rgba(0, 0, 0, 0.15);\n",
              "      filter: drop-shadow(0px 1px 2px rgba(0, 0, 0, 0.3));\n",
              "      fill: #FFFFFF;\n",
              "    }\n",
              "  </style>\n",
              "\n",
              "      <script>\n",
              "        const buttonEl =\n",
              "          document.querySelector('#df-a22a21a1-8cc3-4625-92f5-ee718948ba36 button.colab-df-convert');\n",
              "        buttonEl.style.display =\n",
              "          google.colab.kernel.accessAllowed ? 'block' : 'none';\n",
              "\n",
              "        async function convertToInteractive(key) {\n",
              "          const element = document.querySelector('#df-a22a21a1-8cc3-4625-92f5-ee718948ba36');\n",
              "          const dataTable =\n",
              "            await google.colab.kernel.invokeFunction('convertToInteractive',\n",
              "                                                     [key], {});\n",
              "          if (!dataTable) return;\n",
              "\n",
              "          const docLinkHtml = 'Like what you see? Visit the ' +\n",
              "            '<a target=\"_blank\" href=https://colab.research.google.com/notebooks/data_table.ipynb>data table notebook</a>'\n",
              "            + ' to learn more about interactive tables.';\n",
              "          element.innerHTML = '';\n",
              "          dataTable['output_type'] = 'display_data';\n",
              "          await google.colab.output.renderOutput(dataTable, element);\n",
              "          const docLink = document.createElement('div');\n",
              "          docLink.innerHTML = docLinkHtml;\n",
              "          element.appendChild(docLink);\n",
              "        }\n",
              "      </script>\n",
              "    </div>\n",
              "  </div>\n",
              "  "
            ]
          },
          "metadata": {},
          "execution_count": 23
        }
      ]
    },
    {
      "cell_type": "code",
      "source": [
        "#calculating Direct medical cost\n",
        "total_non_medical_cost = cleaned_df['Q50'].sum()\n",
        "total_cost_diagnosis = cleaned_df['Q4a'].sum()\n",
        "total_direct_medical_cost = cleaned_df['Q4b'].sum()\n",
        "\n",
        "#Total direct cost\n",
        "total_direct_cost = total_non_medical_cost + total_cost_diagnosis + total_direct_medical_cost"
      ],
      "metadata": {
        "id": "wvIMhMNMy_ql"
      },
      "execution_count": 33,
      "outputs": []
    },
    {
      "cell_type": "code",
      "source": [
        "total_non_medical_cost\n",
        "total_direct_medical_cost\n",
        "total_cost_diagnosis"
      ],
      "metadata": {
        "colab": {
          "base_uri": "https://localhost:8080/"
        },
        "id": "zAwgeDGj5f9N",
        "outputId": "5e52316c-9837-4a3e-be97-922962fee6ae"
      },
      "execution_count": 34,
      "outputs": [
        {
          "output_type": "execute_result",
          "data": {
            "text/plain": [
              "631125.9259259258"
            ]
          },
          "metadata": {},
          "execution_count": 34
        }
      ]
    },
    {
      "cell_type": "code",
      "source": [
        "#calculating for the indirect cost\n",
        "days_lost_illness = cleaned_df['Q5a'].sum()\n",
        "days_lost_caring  = cleaned_df['Q5b'].sum()\n",
        "sick_days = cleaned_df['Q6b'].sum()\n",
        "\n",
        "\n",
        "cleaned_df['indirect_cost'] = days_lost_illness + days_lost_caring + sick_days"
      ],
      "metadata": {
        "id": "P9aVsECd0K8s"
      },
      "execution_count": 36,
      "outputs": []
    },
    {
      "cell_type": "code",
      "source": [
        "cleaned_df['Indirect_Cost'] = ((cleaned_df['Q1f'] / cleaned_df['Q1e'])) * ((cleaned_df['Q6a'] + cleaned_df['Q6b']))"
      ],
      "metadata": {
        "id": "wH8DvrrECI0a"
      },
      "execution_count": 62,
      "outputs": []
    },
    {
      "cell_type": "code",
      "source": [
        "cleaned_df.head(4)"
      ],
      "metadata": {
        "colab": {
          "base_uri": "https://localhost:8080/",
          "height": 274
        },
        "id": "KVFLUQf_CI4z",
        "outputId": "5151d991-f1f9-4461-c599-76073a679afd"
      },
      "execution_count": 81,
      "outputs": [
        {
          "output_type": "execute_result",
          "data": {
            "text/plain": [
              "  hh             Q1c          Q1d  Q6c   Q1b  Q1e       Q1f          Q4a  \\\n",
              "1  A       Fisherman   pensioneer  yes   7.0  8.0    1000.0  4045.679012   \n",
              "2  B  Public servant  salary paid  yes   6.0  7.0    5000.0  4045.679012   \n",
              "3  C          Tailor  salary paid  yes  10.0  4.0  300000.0  4045.679012   \n",
              "4  D  Company worker   Daily paid  yes   4.0  6.0   50000.0  4045.679012   \n",
              "\n",
              "            Q4b          Q50        Q5a        Q5b      Q5c      Q5d      Q5e  \\\n",
              "1   4439.545455   2561.69697   5.163265  72.218045  16000.0   4000.0  20000.0   \n",
              "2   4439.545455   2561.69697   5.163265  72.218045    400.0   2500.0   3300.0   \n",
              "3   4439.545455   2561.69697   5.163265  72.218045   1000.0  10000.0  12000.0   \n",
              "4  20000.000000  10008.00000  15.000000   9.000000    500.0   6000.0   7000.0   \n",
              "\n",
              "   Q6a   Q6b   Q6d  Indirect_Cost  Household_burden  \n",
              "1  5.0   4.0  10.0    1125.000000      21125.000000  \n",
              "2  2.0  10.0  12.0    8571.428571      11871.428571  \n",
              "3  1.0   4.0   2.0  375000.000000     387000.000000  \n",
              "4  1.0  10.0   4.0   91666.666667      98666.666667  "
            ],
            "text/html": [
              "\n",
              "  <div id=\"df-5f6cbb8f-13f2-41b8-b933-6a2cadd2f8c3\">\n",
              "    <div class=\"colab-df-container\">\n",
              "      <div>\n",
              "<style scoped>\n",
              "    .dataframe tbody tr th:only-of-type {\n",
              "        vertical-align: middle;\n",
              "    }\n",
              "\n",
              "    .dataframe tbody tr th {\n",
              "        vertical-align: top;\n",
              "    }\n",
              "\n",
              "    .dataframe thead th {\n",
              "        text-align: right;\n",
              "    }\n",
              "</style>\n",
              "<table border=\"1\" class=\"dataframe\">\n",
              "  <thead>\n",
              "    <tr style=\"text-align: right;\">\n",
              "      <th></th>\n",
              "      <th>hh</th>\n",
              "      <th>Q1c</th>\n",
              "      <th>Q1d</th>\n",
              "      <th>Q6c</th>\n",
              "      <th>Q1b</th>\n",
              "      <th>Q1e</th>\n",
              "      <th>Q1f</th>\n",
              "      <th>Q4a</th>\n",
              "      <th>Q4b</th>\n",
              "      <th>Q50</th>\n",
              "      <th>Q5a</th>\n",
              "      <th>Q5b</th>\n",
              "      <th>Q5c</th>\n",
              "      <th>Q5d</th>\n",
              "      <th>Q5e</th>\n",
              "      <th>Q6a</th>\n",
              "      <th>Q6b</th>\n",
              "      <th>Q6d</th>\n",
              "      <th>Indirect_Cost</th>\n",
              "      <th>Household_burden</th>\n",
              "    </tr>\n",
              "  </thead>\n",
              "  <tbody>\n",
              "    <tr>\n",
              "      <th>1</th>\n",
              "      <td>A</td>\n",
              "      <td>Fisherman</td>\n",
              "      <td>pensioneer</td>\n",
              "      <td>yes</td>\n",
              "      <td>7.0</td>\n",
              "      <td>8.0</td>\n",
              "      <td>1000.0</td>\n",
              "      <td>4045.679012</td>\n",
              "      <td>4439.545455</td>\n",
              "      <td>2561.69697</td>\n",
              "      <td>5.163265</td>\n",
              "      <td>72.218045</td>\n",
              "      <td>16000.0</td>\n",
              "      <td>4000.0</td>\n",
              "      <td>20000.0</td>\n",
              "      <td>5.0</td>\n",
              "      <td>4.0</td>\n",
              "      <td>10.0</td>\n",
              "      <td>1125.000000</td>\n",
              "      <td>21125.000000</td>\n",
              "    </tr>\n",
              "    <tr>\n",
              "      <th>2</th>\n",
              "      <td>B</td>\n",
              "      <td>Public servant</td>\n",
              "      <td>salary paid</td>\n",
              "      <td>yes</td>\n",
              "      <td>6.0</td>\n",
              "      <td>7.0</td>\n",
              "      <td>5000.0</td>\n",
              "      <td>4045.679012</td>\n",
              "      <td>4439.545455</td>\n",
              "      <td>2561.69697</td>\n",
              "      <td>5.163265</td>\n",
              "      <td>72.218045</td>\n",
              "      <td>400.0</td>\n",
              "      <td>2500.0</td>\n",
              "      <td>3300.0</td>\n",
              "      <td>2.0</td>\n",
              "      <td>10.0</td>\n",
              "      <td>12.0</td>\n",
              "      <td>8571.428571</td>\n",
              "      <td>11871.428571</td>\n",
              "    </tr>\n",
              "    <tr>\n",
              "      <th>3</th>\n",
              "      <td>C</td>\n",
              "      <td>Tailor</td>\n",
              "      <td>salary paid</td>\n",
              "      <td>yes</td>\n",
              "      <td>10.0</td>\n",
              "      <td>4.0</td>\n",
              "      <td>300000.0</td>\n",
              "      <td>4045.679012</td>\n",
              "      <td>4439.545455</td>\n",
              "      <td>2561.69697</td>\n",
              "      <td>5.163265</td>\n",
              "      <td>72.218045</td>\n",
              "      <td>1000.0</td>\n",
              "      <td>10000.0</td>\n",
              "      <td>12000.0</td>\n",
              "      <td>1.0</td>\n",
              "      <td>4.0</td>\n",
              "      <td>2.0</td>\n",
              "      <td>375000.000000</td>\n",
              "      <td>387000.000000</td>\n",
              "    </tr>\n",
              "    <tr>\n",
              "      <th>4</th>\n",
              "      <td>D</td>\n",
              "      <td>Company worker</td>\n",
              "      <td>Daily paid</td>\n",
              "      <td>yes</td>\n",
              "      <td>4.0</td>\n",
              "      <td>6.0</td>\n",
              "      <td>50000.0</td>\n",
              "      <td>4045.679012</td>\n",
              "      <td>20000.000000</td>\n",
              "      <td>10008.00000</td>\n",
              "      <td>15.000000</td>\n",
              "      <td>9.000000</td>\n",
              "      <td>500.0</td>\n",
              "      <td>6000.0</td>\n",
              "      <td>7000.0</td>\n",
              "      <td>1.0</td>\n",
              "      <td>10.0</td>\n",
              "      <td>4.0</td>\n",
              "      <td>91666.666667</td>\n",
              "      <td>98666.666667</td>\n",
              "    </tr>\n",
              "  </tbody>\n",
              "</table>\n",
              "</div>\n",
              "      <button class=\"colab-df-convert\" onclick=\"convertToInteractive('df-5f6cbb8f-13f2-41b8-b933-6a2cadd2f8c3')\"\n",
              "              title=\"Convert this dataframe to an interactive table.\"\n",
              "              style=\"display:none;\">\n",
              "        \n",
              "  <svg xmlns=\"http://www.w3.org/2000/svg\" height=\"24px\"viewBox=\"0 0 24 24\"\n",
              "       width=\"24px\">\n",
              "    <path d=\"M0 0h24v24H0V0z\" fill=\"none\"/>\n",
              "    <path d=\"M18.56 5.44l.94 2.06.94-2.06 2.06-.94-2.06-.94-.94-2.06-.94 2.06-2.06.94zm-11 1L8.5 8.5l.94-2.06 2.06-.94-2.06-.94L8.5 2.5l-.94 2.06-2.06.94zm10 10l.94 2.06.94-2.06 2.06-.94-2.06-.94-.94-2.06-.94 2.06-2.06.94z\"/><path d=\"M17.41 7.96l-1.37-1.37c-.4-.4-.92-.59-1.43-.59-.52 0-1.04.2-1.43.59L10.3 9.45l-7.72 7.72c-.78.78-.78 2.05 0 2.83L4 21.41c.39.39.9.59 1.41.59.51 0 1.02-.2 1.41-.59l7.78-7.78 2.81-2.81c.8-.78.8-2.07 0-2.86zM5.41 20L4 18.59l7.72-7.72 1.47 1.35L5.41 20z\"/>\n",
              "  </svg>\n",
              "      </button>\n",
              "      \n",
              "  <style>\n",
              "    .colab-df-container {\n",
              "      display:flex;\n",
              "      flex-wrap:wrap;\n",
              "      gap: 12px;\n",
              "    }\n",
              "\n",
              "    .colab-df-convert {\n",
              "      background-color: #E8F0FE;\n",
              "      border: none;\n",
              "      border-radius: 50%;\n",
              "      cursor: pointer;\n",
              "      display: none;\n",
              "      fill: #1967D2;\n",
              "      height: 32px;\n",
              "      padding: 0 0 0 0;\n",
              "      width: 32px;\n",
              "    }\n",
              "\n",
              "    .colab-df-convert:hover {\n",
              "      background-color: #E2EBFA;\n",
              "      box-shadow: 0px 1px 2px rgba(60, 64, 67, 0.3), 0px 1px 3px 1px rgba(60, 64, 67, 0.15);\n",
              "      fill: #174EA6;\n",
              "    }\n",
              "\n",
              "    [theme=dark] .colab-df-convert {\n",
              "      background-color: #3B4455;\n",
              "      fill: #D2E3FC;\n",
              "    }\n",
              "\n",
              "    [theme=dark] .colab-df-convert:hover {\n",
              "      background-color: #434B5C;\n",
              "      box-shadow: 0px 1px 3px 1px rgba(0, 0, 0, 0.15);\n",
              "      filter: drop-shadow(0px 1px 2px rgba(0, 0, 0, 0.3));\n",
              "      fill: #FFFFFF;\n",
              "    }\n",
              "  </style>\n",
              "\n",
              "      <script>\n",
              "        const buttonEl =\n",
              "          document.querySelector('#df-5f6cbb8f-13f2-41b8-b933-6a2cadd2f8c3 button.colab-df-convert');\n",
              "        buttonEl.style.display =\n",
              "          google.colab.kernel.accessAllowed ? 'block' : 'none';\n",
              "\n",
              "        async function convertToInteractive(key) {\n",
              "          const element = document.querySelector('#df-5f6cbb8f-13f2-41b8-b933-6a2cadd2f8c3');\n",
              "          const dataTable =\n",
              "            await google.colab.kernel.invokeFunction('convertToInteractive',\n",
              "                                                     [key], {});\n",
              "          if (!dataTable) return;\n",
              "\n",
              "          const docLinkHtml = 'Like what you see? Visit the ' +\n",
              "            '<a target=\"_blank\" href=https://colab.research.google.com/notebooks/data_table.ipynb>data table notebook</a>'\n",
              "            + ' to learn more about interactive tables.';\n",
              "          element.innerHTML = '';\n",
              "          dataTable['output_type'] = 'display_data';\n",
              "          await google.colab.output.renderOutput(dataTable, element);\n",
              "          const docLink = document.createElement('div');\n",
              "          docLink.innerHTML = docLinkHtml;\n",
              "          element.appendChild(docLink);\n",
              "        }\n",
              "      </script>\n",
              "    </div>\n",
              "  </div>\n",
              "  "
            ]
          },
          "metadata": {},
          "execution_count": 81
        }
      ]
    },
    {
      "cell_type": "code",
      "source": [
        "cleaned_df[['Indirect_Cost']] = cleaned_df[['Indirect_Cost']].replace([np.inf, -np.inf],  0)"
      ],
      "metadata": {
        "id": "wNsekOhMKIPx"
      },
      "execution_count": 72,
      "outputs": []
    },
    {
      "cell_type": "code",
      "source": [
        "total_indirect_cost = cleaned_df['Indirect_Cost'].sum()"
      ],
      "metadata": {
        "id": "FcSEMMYRJAD5"
      },
      "execution_count": 74,
      "outputs": []
    },
    {
      "cell_type": "code",
      "source": [
        "cleaned_df['Household_burden'] = cleaned_df['Q5e'] + cleaned_df['Indirect_Cost']"
      ],
      "metadata": {
        "id": "i1EBZd3ZKqPr"
      },
      "execution_count": 77,
      "outputs": []
    },
    {
      "cell_type": "code",
      "source": [
        "#Calculating the total burden for all the household\n",
        "total_burden_household = cleaned_df.Household_burden.sum()"
      ],
      "metadata": {
        "id": "gvCFu0qPLJ4W"
      },
      "execution_count": 80,
      "outputs": []
    },
    {
      "cell_type": "code",
      "source": [
        "total_burden_household"
      ],
      "metadata": {
        "colab": {
          "base_uri": "https://localhost:8080/"
        },
        "id": "bsGDTfLNT3U8",
        "outputId": "6aa10935-e2d8-411a-bc85-150ed14708c9"
      },
      "execution_count": 82,
      "outputs": [
        {
          "output_type": "execute_result",
          "data": {
            "text/plain": [
              "8672281.388458703"
            ]
          },
          "metadata": {},
          "execution_count": 82
        }
      ]
    },
    {
      "cell_type": "code",
      "source": [
        "#calculating the percent burden for each household\n",
        "\n",
        "cleaned_df['burden_percent'] = (cleaned_df['Household_burden'] / total_burden_household ) * 100"
      ],
      "metadata": {
        "id": "Rh18tdxNVngF"
      },
      "execution_count": 83,
      "outputs": []
    },
    {
      "cell_type": "code",
      "source": [
        "#Let's categorize these burdens into various categories\n",
        "max = cleaned_df.burden_percent.max()\n",
        "min = cleaned_df.burden_percent.min()\n",
        "range = max - min"
      ],
      "metadata": {
        "id": "RowstSF6WiC4"
      },
      "execution_count": 95,
      "outputs": []
    },
    {
      "cell_type": "code",
      "source": [
        "max, min, max - min"
      ],
      "metadata": {
        "colab": {
          "base_uri": "https://localhost:8080/"
        },
        "id": "zk8zCg72X1FC",
        "outputId": "b0eb31dd-19a8-48e2-b55a-1529cfd9f210"
      },
      "execution_count": 93,
      "outputs": [
        {
          "output_type": "execute_result",
          "data": {
            "text/plain": [
              "(20.02093048874202, 0.021908883198007958, 19.999021605544012)"
            ]
          },
          "metadata": {},
          "execution_count": 93
        }
      ]
    },
    {
      "cell_type": "code",
      "source": [
        "part_size = range / 4\n"
      ],
      "metadata": {
        "id": "pm3aLAzbojlo"
      },
      "execution_count": 97,
      "outputs": []
    },
    {
      "cell_type": "code",
      "source": [
        "cleaned_df.burden"
      ],
      "metadata": {
        "colab": {
          "base_uri": "https://localhost:8080/"
        },
        "id": "MDPMZUIXrVVz",
        "outputId": "b395338f-ff72-41e1-c047-675ca3ba2bbe"
      },
      "execution_count": 109,
      "outputs": [
        {
          "output_type": "execute_result",
          "data": {
            "text/plain": [
              "1       Low burden\n",
              "2       Low burden\n",
              "3      High burden\n",
              "4       Low burden\n",
              "5       Low burden\n",
              "          ...     \n",
              "152     Low burden\n",
              "153     Low burden\n",
              "154     Low burden\n",
              "155     Low burden\n",
              "156     Low burden\n",
              "Name: burden, Length: 156, dtype: object"
            ]
          },
          "metadata": {},
          "execution_count": 109
        }
      ]
    },
    {
      "cell_type": "code",
      "source": [
        "part_size"
      ],
      "metadata": {
        "colab": {
          "base_uri": "https://localhost:8080/"
        },
        "id": "YQqQbLlYpWeF",
        "outputId": "26d21c5e-261b-49dc-dbbe-122af01f815c"
      },
      "execution_count": 98,
      "outputs": [
        {
          "output_type": "execute_result",
          "data": {
            "text/plain": [
              "4.999755401386003"
            ]
          },
          "metadata": {},
          "execution_count": 98
        }
      ]
    },
    {
      "cell_type": "code",
      "source": [
        "cleaned_df['burden'] = [\"No burden\" if range == 0 else \"Low burden\" if range < 3 else \"High burden\" if range < 6 else \"Severe burden\" for range in cleaned_df.burden_percent]"
      ],
      "metadata": {
        "id": "QievTtYcpdnt"
      },
      "execution_count": 108,
      "outputs": []
    }
  ]
}